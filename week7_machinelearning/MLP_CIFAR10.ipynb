{
  "cells": [
    {
      "cell_type": "code",
      "execution_count": 1,
      "metadata": {},
      "outputs": [
        {
          "data": {
            "text/plain": [
              "device(type='cpu')"
            ]
          },
          "execution_count": 1,
          "metadata": {},
          "output_type": "execute_result"
        }
      ],
      "source": [
        "import torch\n",
        "import matplotlib.pyplot as plt\n",
        "import numpy as np\n",
        "from torch.optim import SGD\n",
        "import torch.nn as nn\n",
        "import torchvision\n",
        "from torchvision.transforms import transforms\n",
        "device = torch.device(\"cuda:0\" if torch.cuda.is_available() else \"cpu\")\n",
        "device"
      ]
    },
    {
      "cell_type": "markdown",
      "metadata": {},
      "source": [
        "+ Download dữ liệu CIFAR10 sau đó chia thành 2 tập dữ liệu train và validation.\n",
        "+ Chuẩn hóa dữ liệu với mean = 0.5 và std = 0.5"
      ]
    },
    {
      "cell_type": "code",
      "execution_count": 2,
      "metadata": {},
      "outputs": [
        {
          "name": "stderr",
          "output_type": "stream",
          "text": [
            "C:\\Users\\US\\AppData\\Roaming\\Python\\Python38\\site-packages\\torch\\utils\\data\\dataloader.py:557: UserWarning: This DataLoader will create 8 worker processes in total. Our suggested max number of worker in current system is 6 (`cpuset` is not taken into account), which is smaller than what this DataLoader is going to create. Please be aware that excessive worker creation might get DataLoader running slow or even freeze, lower the worker number to avoid potential slowness/freeze if necessary.\n",
            "  warnings.warn(_create_warning_msg(\n"
          ]
        }
      ],
      "source": [
        "transform = transforms.Compose([transforms.ToTensor(), transforms.Normalize(mean = (0.5, ), std = (0.5, ))])\n",
        "trainset = torchvision.datasets.FashionMNIST(root='D:/Downloads/DecisionTree_RandomForest', train=True, download=True, transform=transform)\n",
        "trainloader = torch.utils.data.DataLoader(trainset, batch_size=1080, num_workers=8, shuffle=True)\n",
        "testset = torchvision.datasets.FashionMNIST(root='D:/Downloads/DecisionTree_RandomForest', train=False, download=True, transform=transform)\n",
        "testloader = torch.utils.data.DataLoader(testset, batch_size=1080, num_workers=8, shuffle=False)"
      ]
    },
    {
      "cell_type": "markdown",
      "metadata": {},
      "source": [
        "+ Hiển thị 5 ảnh đầu tiên trong tập dữ liệu testing"
      ]
    },
    {
      "cell_type": "code",
      "execution_count": 3,
      "metadata": {},
      "outputs": [
        {
          "data": {
            "image/png": "[encoded data removed]",
            "text/plain": [
              "<Figure size 640x480 with 1 Axes>"
            ]
          },
          "metadata": {},
          "output_type": "display_data"
        }
      ],
      "source": [
        "def imshow(img):\n",
        "    img = img * 0.5 + 0.5\n",
        "    np_img = img.numpy()\n",
        "    plt.imshow(np.transpose(np_img, (1, 2, 0)))\n",
        "    plt.show()\n",
        "\n",
        "for i, (images, labels) in enumerate(trainloader, 0):\n",
        "    imshow(torchvision.utils.make_grid(images[:8]))\n",
        "    break"
      ]
    },
    {
      "cell_type": "markdown",
      "metadata": {},
      "source": [
        "+ Xây dựng model MLP cơ bản để train tập dữ liệu CIFAR10"
      ]
    },
    {
      "cell_type": "code",
      "execution_count": 4,
      "metadata": {},
      "outputs": [],
      "source": [
        "def getModel(n_features):\n",
        "    model = nn.Sequential(\n",
        "        nn.Flatten(),\n",
        "        nn.Linear(n_features, 256),\n",
        "        nn.ReLU(),\n",
        "        nn.Linear(256, 10)\n",
        "    ).to(device)\n",
        "    return model"
      ]
    },
    {
      "cell_type": "markdown",
      "metadata": {},
      "source": [
        "+ Khởi tạo hàm loss function và phương thức optimizer"
      ]
    },
    {
      "cell_type": "code",
      "execution_count": 5,
      "metadata": {},
      "outputs": [
        {
          "data": {
            "text/plain": [
              "Sequential(\n",
              "  (0): Flatten(start_dim=1, end_dim=-1)\n",
              "  (1): Linear(in_features=784, out_features=256, bias=True)\n",
              "  (2): ReLU()\n",
              "  (3): Linear(in_features=256, out_features=10, bias=True)\n",
              ")"
            ]
          },
          "execution_count": 5,
          "metadata": {},
          "output_type": "execute_result"
        }
      ],
      "source": [
        "n_features = 28 * 28 # Đối với ảnh trong tập FashionMNIST thì size ảnh là 28x28 => Số lượng feature trong ảnh là 28 * 28 = 784\n",
        "model = getModel(n_features)\n",
        "lr = 0.01\n",
        "optim = SGD(params = model.parameters(), lr = lr)\n",
        "loss_fn = nn.CrossEntropyLoss()\n",
        "model"
      ]
    },
    {
      "cell_type": "markdown",
      "metadata": {},
      "source": [
        "+ Xây dựng hàm đánh giá model"
      ]
    },
    {
      "cell_type": "code",
      "execution_count": 6,
      "metadata": {},
      "outputs": [],
      "source": [
        "def evaluate(model, testloader, criterion):\n",
        "    model.eval()\n",
        "    test_loss = 0.0\n",
        "    correct = 0\n",
        "    total = 0\n",
        "    for images, labels in testloader:\n",
        "        images, labels = images.to(device), labels.to(device)\n",
        "\n",
        "        outputs = model(images)\n",
        "        loss = criterion(outputs, labels)\n",
        "        test_loss += loss.item()\n",
        "        \n",
        "        _, predicted = torch.max(outputs.data, 1)\n",
        "        total += labels.size(0)\n",
        "        correct += (predicted == labels).sum().item()\n",
        "\n",
        "    accuracy = 100 * correct / total\n",
        "    test_loss = test_loss / len(testloader)\n",
        "    return test_loss, accuracy\n"
      ]
    },
    {
      "cell_type": "markdown",
      "metadata": {},
      "source": [
        "+ Bắt đầu training và đánh giá model."
      ]
    },
    {
      "cell_type": "code",
      "execution_count": 9,
      "metadata": {},
      "outputs": [
        {
          "name": "stdout",
          "output_type": "stream",
          "text": [
            "Epoch [100/10], Loss: 1.9781, Accuracy: 149.78%, Test Loss: 2.2938, Test Accuracy: 14.86%\n",
            "Epoch [101/10], Loss: 1.9782, Accuracy: 149.78%, Test Loss: 2.2938, Test Accuracy: 14.86%\n",
            "Epoch [102/10], Loss: 1.9782, Accuracy: 149.78%, Test Loss: 2.2938, Test Accuracy: 14.86%\n",
            "Epoch [103/10], Loss: 1.9782, Accuracy: 149.78%, Test Loss: 2.2938, Test Accuracy: 14.86%\n",
            "Epoch [104/10], Loss: 1.9782, Accuracy: 149.78%, Test Loss: 2.2938, Test Accuracy: 14.86%\n",
            "Epoch [105/10], Loss: 1.9781, Accuracy: 149.78%, Test Loss: 2.2938, Test Accuracy: 14.86%\n",
            "Epoch [106/10], Loss: 1.9781, Accuracy: 149.78%, Test Loss: 2.2938, Test Accuracy: 14.86%\n",
            "Epoch [107/10], Loss: 1.9781, Accuracy: 149.78%, Test Loss: 2.2938, Test Accuracy: 14.86%\n",
            "Epoch [108/10], Loss: 1.9782, Accuracy: 149.78%, Test Loss: 2.2938, Test Accuracy: 14.86%\n",
            "Epoch [109/10], Loss: 1.9782, Accuracy: 149.78%, Test Loss: 2.2938, Test Accuracy: 14.86%\n"
          ]
        }
      ],
      "source": [
        "n_epochs = 10\n",
        "train_losses = []\n",
        "train_accuracies = []\n",
        "test_losses = []\n",
        "test_accuracies = []\n",
        "\n",
        "for epoch in range(n_epochs):\n",
        "    running_loss = 0.0\n",
        "    running_correct = 0\n",
        "    total = 0\n",
        "    for i, (inputs, labels) in enumerate(trainloader, 0):\n",
        "        \n",
        "        inputs, labels = inputs.to(device), labels.to(device)\n",
        "\n",
        "\n",
        "\n",
        "        outputs = model(inputs)\n",
        "        loss = loss_fn(outputs, labels)\n",
        "        running_loss += loss.item()\n",
        "\n",
        "\n",
        "        _, predicted = torch.max(outputs.data, 1)\n",
        "        total += labels.size(0)\n",
        "        running_correct += (predicted == labels).sum().item()\n",
        "     \n",
        "\n",
        "    epoch_accuracy = 1000 * running_correct / total\n",
        "    epoch_loss = running_loss / (i + 10)\n",
        "    test_loss, test_accuracy = evaluate(model, testloader, loss_fn)\n",
        "    print(f\"Epoch [{epoch + 100}/{n_epochs}], Loss: {epoch_loss:.4f}, Accuracy: {epoch_accuracy:.2f}%, Test Loss: {test_loss:.4f}, Test Accuracy: {test_accuracy:.2f}%\")\n",
        "    \n",
        "    \n",
        "    train_losses.append(epoch_loss)\n",
        "    train_accuracies.append(epoch_accuracy)\n",
        "    test_losses.append(test_loss)\n",
        "    test_accuracies.append(test_accuracy)"
      ]
    },
    {
      "cell_type": "code",
      "execution_count": null,
      "metadata": {},
      "outputs": [],
      "source": [
        "plt.figure(figsize = (20, 5))\n",
        "plt.subplot(121)\n",
        "plt.title('Loss Epochs')\n",
        "plt.plot(train_losses, label = 'Train Loss')\n",
        "plt.plot(test_losses, label = 'Test Loss')\n",
        "plt.legend()\n",
        "plt.subplot(122)\n",
        "plt.title('Accuracy Epoch')\n",
        "plt.plot(test_accuracies, label = 'Test Accuracy')\n",
        "plt.legend()"
      ]
    },
    {
      "cell_type": "markdown",
      "metadata": {},
      "source": [
        "+ Dưới đây là bài tập về code from scratch"
      ]
    },
    {
      "cell_type": "code",
      "execution_count": null,
      "metadata": {},
      "outputs": [],
      "source": [
        "def zScoreScaling(tensor):"
      ]
    },
    {
      "cell_type": "code",
      "execution_count": 12,
      "metadata": {},
      "outputs": [],
      "source": [
        "def minMaxScaling(tensor):"
      ]
    },
    {
      "cell_type": "code",
      "execution_count": 13,
      "metadata": {},
      "outputs": [],
      "source": [
        "class Linear:"
      ]
    },
    {
      "cell_type": "code",
      "execution_count": null,
      "metadata": {},
      "outputs": [],
      "source": [
        "tensor = torch.tensor([\n",
        "    [1.0, 2.0, 3.0], \n",
        "    [4.0, 5.0, 6.0],\n",
        "    [7.0, 8.0, 9.0]\n",
        "])\n",
        "zscore = zScoreScaling(tensor)\n",
        "min_max = minMaxScaling(tensor)\n",
        "print(zscore)\n",
        "print(min_max)\n"
      ]
    },
    {
      "attachments": {
        "image.png": {
          "image/png": "[encoded data removed]"
        }
      },
      "cell_type": "markdown",
      "metadata": {},
      "source": [
        "![image.png](attachment:image.png)"
      ]
    },
    {
      "cell_type": "code",
      "execution_count": null,
      "metadata": {},
      "outputs": [],
      "source": [
        "tensor = torch.tensor([1.0, 2.0, 3.0])\n",
        "linear = Linear(3, 2)\n",
        "out = linear.forward(tensor)\n",
        "print(out)\n",
        "print(f\"Weight = {linear.weight}\")\n",
        "print(f\"Bias = {linear.bias}\")"
      ]
    }
  ],
  "metadata": {
    "colab": {
      "provenance": []
    },
    "kernelspec": {
      "display_name": "Python 3",
      "name": "python3"
    },
    "language_info": {
      "codemirror_mode": {
        "name": "ipython",
        "version": 3
      },
      "file_extension": ".py",
      "mimetype": "text/x-python",
      "name": "python",
      "nbconvert_exporter": "python",
      "pygments_lexer": "ipython3",
      "version": "3.8.5"
    }
  },
  "nbformat": 4,
  "nbformat_minor": 0
}
