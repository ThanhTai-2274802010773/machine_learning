{
 "cells": [
  {
   "cell_type": "code",
   "execution_count": null,
   "metadata": {},
   "outputs": [],
   "source": [
    "import numpy as np\n",
    "X = np.array([180,162,183,174,160,163,180,165,175,170,170,169,168,175,169,171,155,158,175,165]).reshape(-1,1)\n",
    "Y = np.array([86,55,86.5,70,62,54,60,72,93,89,60,82,59,75,56,89,45,60,60,72]).reshape((-1,1))\n",
    "X = np.insert(X,0,1, axis=1)\n",
    "\n",
    "import matplotlib.pyplot as plt\n",
    "theta = np.dot(np.linalg.pinv(np.dot(X.T, X)), np.dot(X.T, Y))\n",
    "x1 = 150\n",
    "y1 = theta[0] + theta[1]*x1\n",
    "x2 = 190\n",
    "y2 = theta[0] + theta[1]*x2\n",
    "\n",
    "plt.plot([x1,x2],[y1,y2],'r-')\n",
    "plt.plot(X[:,1],Y[:,0],'bo')\n",
    "\n",
    "plt.xlabel('chiều cao')\n",
    "plt.ylabel('cân nặng')\n",
    "plt.title('chiều cao và cân nặng của sinh viên VLU')\n",
    "plt.legend()\n",
    "plt.show()"
   ]
  }
 ],
 "metadata": {
  "language_info": {
   "name": "python"
  }
 },
 "nbformat": 4,
 "nbformat_minor": 2
}
